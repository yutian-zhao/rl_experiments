{
 "cells": [
  {
   "cell_type": "code",
   "execution_count": 1,
   "metadata": {},
   "outputs": [
    {
     "name": "stdout",
     "output_type": "stream",
     "text": [
      "pygame 2.1.0 (SDL 2.0.16, Python 3.10.12)\n",
      "Hello from the pygame community. https://www.pygame.org/contribute.html\n"
     ]
    }
   ],
   "source": [
    "import math\n",
    "import random\n",
    "# import minigrid\n",
    "import numpy as np\n",
    "import matplotlib\n",
    "from tqdm import tqdm\n",
    "import matplotlib.pyplot as plt\n",
    "import gymnasium as gym\n",
    "import torch\n",
    "import torch.nn as nn\n",
    "import torch.optim as optim\n",
    "import torch.nn.functional as F\n",
    "from torch.utils.data import DataLoader\n",
    "# from array2gif import write_gif\n",
    "# from minigrid.wrappers import ImgObsWrapper, FullyObsWrapper\n",
    "\n",
    "\n",
    "import gym_examples\n",
    "from models import *\n",
    "from utils import *"
   ]
  },
  {
   "cell_type": "code",
   "execution_count": 2,
   "metadata": {},
   "outputs": [],
   "source": [
    "num_skills = 8\n",
    "# skill_eps_len = 10  # 90 10\n",
    "# skill_eps_count = 10\n",
    "num_episodes = 1000  # 600\n",
    "# discount = 0.99\n",
    "# final_step_discount = 0.99\n",
    "lr_pred = 1e-4\n",
    "# lr_reg = 1e-4\n",
    "lr_policy = 1e-4\n",
    "# lr_extractor = 1e-4\n",
    "BATCH_SIZE = 32 # 64  # 128\n",
    "GAMMA = 0.99\n",
    "EPS_START = 0.9\n",
    "EPS_MIN = 0.05\n",
    "EPS_END = 0\n",
    "# EPS_DECAY = 50000\n",
    "TAU = 0.005\n",
    "# features_dim = 32 # 128\n",
    "hid_dim = 32\n",
    "q_memory = ReplayMemory(1000)\n",
    "predictor_memory = MemoryDataset(200) # 300-600\n",
    "terminate_prob = 0.05\n",
    "\n",
    "device = torch.device(\"cuda\" if torch.cuda.is_available() else \"cpu\")"
   ]
  },
  {
   "cell_type": "code",
   "execution_count": 3,
   "metadata": {},
   "outputs": [
    {
     "name": "stdout",
     "output_type": "stream",
     "text": [
      "100\n"
     ]
    },
    {
     "name": "stderr",
     "output_type": "stream",
     "text": [
      "/home/zhaoyutian/Documents/nlp/lib/python3.10/site-packages/gymnasium/core.py:311: UserWarning: \u001b[33mWARN: env.size to get variables from other wrappers is deprecated and will be removed in v1.0, to get this variable you can do `env.unwrapped.size` for environment variables or `env.get_wrapper_attr('size')` that will search the reminding wrappers.\u001b[0m\n",
      "  logger.warn(\n"
     ]
    }
   ],
   "source": [
    "env = gym.make('gym_examples/GridWorld-v0', size=10, render_mode=\"rgb_array\")\n",
    "env = gym.make('gym_examples:gym_examples/GridWorld-v0', size=10, render_mode=\"rgb_array\")\n",
    "env = gym_examples.OneHot(env)\n",
    "# env = gym_examples.AgentLocation(env)\n",
    "# env = gym_examples.FullFrame(env)\n",
    "\n",
    "n_actions = env.action_space.n\n",
    "obs_dim = env.observation_space.shape[-1]\n",
    "# obs, info = env.reset()\n",
    "print(obs_dim)"
   ]
  },
  {
   "cell_type": "code",
   "execution_count": 4,
   "metadata": {},
   "outputs": [],
   "source": [
    "predictor_net = Head(obs_dim * 2, num_skills, hid_dim=hid_dim, if_prob=False).to(device)\n",
    "\n",
    "policy_net = Head(obs_dim, n_actions*num_skills, hid_dim=hid_dim,).to(device)\n",
    "target_net = Head(obs_dim, n_actions*num_skills, hid_dim=hid_dim,).to(device)\n",
    "target_net.load_state_dict(policy_net.state_dict())\n",
    "\n",
    "pred_optimizer = optim.AdamW(predictor_net.parameters(), lr_pred, amsgrad=True)\n",
    "policy_optimizer = optim.AdamW(policy_net.parameters(), lr_policy, amsgrad=True)"
   ]
  },
  {
   "cell_type": "code",
   "execution_count": 5,
   "metadata": {},
   "outputs": [],
   "source": [
    "it = 0\n",
    "def select_action(state, skill, eps_done):\n",
    "    global it\n",
    "    eps_threshold = epsilon(EPS_START, EPS_END, eps_done, EPS_MIN)\n",
    "    if it > 5 and random.random() < terminate_prob:\n",
    "        it = 0\n",
    "        return None\n",
    "    elif random.random() > eps_threshold:\n",
    "        it += 1\n",
    "        with torch.no_grad():\n",
    "            # t.max(1) will return the largest column value of each row.\n",
    "            # second column on max result is index of where max element was\n",
    "            # found, so we pick action with the larger expected reward.\n",
    "            q_values = policy_net(state).reshape((-1, n_actions, num_skills))[:,:, skill]\n",
    "            return q_values.max(1).indices.view(-1, 1)\n",
    "    else:\n",
    "        it += 1\n",
    "        return torch.tensor([[env.action_space.sample()]], device=device,) # dtype=torch.long"
   ]
  },
  {
   "cell_type": "code",
   "execution_count": 6,
   "metadata": {},
   "outputs": [],
   "source": [
    "def compute_td_error():\n",
    "    if len(q_memory) < BATCH_SIZE:\n",
    "        return\n",
    "    transitions = q_memory.sample(BATCH_SIZE)\n",
    "    batch = Transition(*zip(*transitions))\n",
    "\n",
    "    non_final_mask = torch.tensor(\n",
    "        tuple(map(lambda s: s is not None, batch.next_state)),\n",
    "        device=device,\n",
    "        dtype=torch.bool,\n",
    "    )\n",
    "    non_final_next_states = torch.cat(\n",
    "        [s for s in batch.next_state if s is not None]\n",
    "    )\n",
    "    state_batch =  torch.cat(batch.state)\n",
    "    action_batch = torch.cat(batch.action)\n",
    "    reward_batch = torch.cat(batch.reward)\n",
    "    skill_batch = torch.cat(batch.skill)\n",
    "    state_action_values = policy_net(state_batch).reshape((-1, n_actions, num_skills))[torch.arange(BATCH_SIZE), action_batch.squeeze().int()] # [B,N_Skills]\n",
    "\n",
    "    next_state_values = torch.zeros((BATCH_SIZE, num_skills), device=device)\n",
    "    with torch.no_grad():\n",
    "        next_state_values[non_final_mask] = (\n",
    "            target_net(non_final_next_states).reshape(-1, n_actions, num_skills)\n",
    "            .max(1)\n",
    "            .values\n",
    "        )\n",
    "    # Compute the expected Q values\n",
    "    expected_state_action_values = (next_state_values * GAMMA) + reward_batch.unsqueeze(1)\n",
    "\n",
    "    # Compute Huber loss\n",
    "    criterion = nn.SmoothL1Loss()\n",
    "    td_error = criterion(\n",
    "        state_action_values, expected_state_action_values\n",
    "    )\n",
    "    # print(next_state_values * GAMMA, reward_batch.unsqueeze(1))\n",
    "    # print(td_error)\n",
    "\n",
    "    # Optimize the model\n",
    "    policy_optimizer.zero_grad()\n",
    "    td_error.backward()\n",
    "    # In-place gradient clipping\n",
    "    torch.nn.utils.clip_grad_value_(policy_net.parameters(), 100)\n",
    "    policy_optimizer.step()\n",
    "\n",
    "    return td_error"
   ]
  },
  {
   "cell_type": "code",
   "execution_count": 7,
   "metadata": {},
   "outputs": [],
   "source": [
    "def update_pred():\n",
    "    train_dataset, valid_dataset = torch.utils.data.random_split(predictor_memory, [0.8, 0.2])\n",
    "    train_dataloader = DataLoader(train_dataset, batch_size=BATCH_SIZE, shuffle=True)\n",
    "    valid_dataloader = DataLoader(valid_dataset, batch_size=BATCH_SIZE, shuffle=True)\n",
    "    stopper = EarlyStopper(patience=5, min_delta=-0.001, if_save=False)\n",
    "\n",
    "    for epoch in tqdm(range(5000)):\n",
    "        predictor_net.train()\n",
    "        for batch, (X, y) in enumerate(train_dataloader):\n",
    "            X, y = X.to(device), y.to(device)\n",
    "\n",
    "            # Compute prediction error\n",
    "            pred = predictor_net(X)\n",
    "            # print(pred.shape, y.shape)\n",
    "            loss = torch.nn.functional.cross_entropy(pred, y)\n",
    "\n",
    "            # Backpropagation\n",
    "            loss.backward()\n",
    "            pred_optimizer.step()\n",
    "            pred_optimizer.zero_grad()\n",
    "        \n",
    "        predictor_net.eval()\n",
    "        valid_losses = 0\n",
    "        num_batch = 0\n",
    "        for batch, (X, y) in enumerate(valid_dataloader):\n",
    "            X, y = X.to(device), y.to(device)\n",
    "\n",
    "            # Compute prediction error\n",
    "            pred = predictor_net(X)\n",
    "            loss = torch.nn.functional.cross_entropy(pred, y)\n",
    "            num_batch += 1\n",
    "            valid_losses += loss\n",
    "\n",
    "        valid_loss = valid_losses/num_batch\n",
    "\n",
    "        # if stopper.early_stop(valid_loss):\n",
    "        #     break\n",
    "        \n",
    "    predictor_net.train()\n",
    "    return valid_loss\n"
   ]
  },
  {
   "cell_type": "code",
   "execution_count": 8,
   "metadata": {},
   "outputs": [
    {
     "name": "stderr",
     "output_type": "stream",
     "text": [
      "/home/zhaoyutian/Documents/nlp/lib/python3.10/site-packages/gymnasium/core.py:311: UserWarning: \u001b[33mWARN: env.size to get variables from other wrappers is deprecated and will be removed in v1.0, to get this variable you can do `env.unwrapped.size` for environment variables or `env.get_wrapper_attr('size')` that will search the reminding wrappers.\u001b[0m\n",
      "  logger.warn(\n",
      "  1%|          | 54/5000 [00:00<00:09, 538.07it/s]"
     ]
    },
    {
     "name": "stderr",
     "output_type": "stream",
     "text": [
      "100%|██████████| 5000/5000 [00:03<00:00, 1530.56it/s]\n",
      "100%|██████████| 10/10 [00:00<00:00, 42.42it/s]\n"
     ]
    },
    {
     "name": "stdout",
     "output_type": "stream",
     "text": [
      "Episode 31 done.\n"
     ]
    },
    {
     "name": "stderr",
     "output_type": "stream",
     "text": [
      "100%|██████████| 5000/5000 [00:05<00:00, 977.25it/s] \n",
      "100%|██████████| 10/10 [00:00<00:00, 1220.41it/s]\n"
     ]
    },
    {
     "name": "stdout",
     "output_type": "stream",
     "text": [
      "Episode 63 done.\n"
     ]
    },
    {
     "name": "stderr",
     "output_type": "stream",
     "text": [
      "100%|██████████| 5000/5000 [00:07<00:00, 694.99it/s]\n",
      "100%|██████████| 10/10 [00:00<00:00, 1112.19it/s]\n"
     ]
    },
    {
     "name": "stdout",
     "output_type": "stream",
     "text": [
      "Episode 95 done.\n"
     ]
    },
    {
     "name": "stderr",
     "output_type": "stream",
     "text": [
      "100%|██████████| 5000/5000 [00:09<00:00, 551.68it/s]\n",
      "100%|██████████| 10/10 [00:00<00:00, 1185.64it/s]\n"
     ]
    },
    {
     "name": "stdout",
     "output_type": "stream",
     "text": [
      "Episode 127 done.\n"
     ]
    },
    {
     "name": "stderr",
     "output_type": "stream",
     "text": [
      "100%|██████████| 5000/5000 [00:09<00:00, 534.82it/s]\n",
      "100%|██████████| 10/10 [00:00<00:00, 1114.47it/s]\n"
     ]
    },
    {
     "name": "stdout",
     "output_type": "stream",
     "text": [
      "Episode 159 done.\n"
     ]
    },
    {
     "name": "stderr",
     "output_type": "stream",
     "text": [
      "100%|██████████| 5000/5000 [00:11<00:00, 420.53it/s]\n",
      "100%|██████████| 10/10 [00:00<00:00, 1165.89it/s]\n"
     ]
    },
    {
     "name": "stdout",
     "output_type": "stream",
     "text": [
      "Episode 191 done.\n"
     ]
    },
    {
     "name": "stderr",
     "output_type": "stream",
     "text": [
      "100%|██████████| 5000/5000 [00:11<00:00, 424.33it/s]\n",
      "100%|██████████| 10/10 [00:00<00:00, 1110.63it/s]\n"
     ]
    },
    {
     "name": "stdout",
     "output_type": "stream",
     "text": [
      "Episode 223 done.\n"
     ]
    },
    {
     "name": "stderr",
     "output_type": "stream",
     "text": [
      "100%|██████████| 5000/5000 [00:11<00:00, 420.11it/s]\n",
      "100%|██████████| 10/10 [00:00<00:00, 1137.50it/s]\n"
     ]
    },
    {
     "name": "stdout",
     "output_type": "stream",
     "text": [
      "Episode 255 done.\n"
     ]
    },
    {
     "name": "stderr",
     "output_type": "stream",
     "text": [
      "100%|██████████| 5000/5000 [00:11<00:00, 420.51it/s]\n",
      "100%|██████████| 10/10 [00:00<00:00, 1127.74it/s]\n"
     ]
    },
    {
     "name": "stdout",
     "output_type": "stream",
     "text": [
      "Episode 287 done.\n"
     ]
    },
    {
     "name": "stderr",
     "output_type": "stream",
     "text": [
      "100%|██████████| 5000/5000 [00:11<00:00, 426.85it/s]\n",
      "100%|██████████| 10/10 [00:00<00:00, 1102.05it/s]\n"
     ]
    },
    {
     "name": "stdout",
     "output_type": "stream",
     "text": [
      "Episode 319 done.\n"
     ]
    },
    {
     "name": "stderr",
     "output_type": "stream",
     "text": [
      "100%|██████████| 5000/5000 [00:11<00:00, 421.78it/s]\n",
      "100%|██████████| 10/10 [00:00<00:00, 1087.76it/s]\n"
     ]
    },
    {
     "name": "stdout",
     "output_type": "stream",
     "text": [
      "Episode 351 done.\n"
     ]
    },
    {
     "name": "stderr",
     "output_type": "stream",
     "text": [
      "100%|██████████| 5000/5000 [00:11<00:00, 419.39it/s]\n",
      "100%|██████████| 10/10 [00:00<00:00, 1117.80it/s]\n"
     ]
    },
    {
     "name": "stdout",
     "output_type": "stream",
     "text": [
      "Episode 383 done.\n"
     ]
    },
    {
     "name": "stderr",
     "output_type": "stream",
     "text": [
      "100%|██████████| 5000/5000 [00:11<00:00, 423.40it/s]\n",
      "100%|██████████| 10/10 [00:00<00:00, 1097.30it/s]\n"
     ]
    },
    {
     "name": "stdout",
     "output_type": "stream",
     "text": [
      "Episode 415 done.\n"
     ]
    },
    {
     "name": "stderr",
     "output_type": "stream",
     "text": [
      "100%|██████████| 5000/5000 [00:11<00:00, 427.24it/s]\n",
      "100%|██████████| 10/10 [00:00<00:00, 1240.22it/s]\n"
     ]
    },
    {
     "name": "stdout",
     "output_type": "stream",
     "text": [
      "Episode 447 done.\n"
     ]
    },
    {
     "name": "stderr",
     "output_type": "stream",
     "text": [
      "100%|██████████| 5000/5000 [00:11<00:00, 422.94it/s]\n",
      "100%|██████████| 10/10 [00:00<00:00, 1283.37it/s]\n"
     ]
    },
    {
     "name": "stdout",
     "output_type": "stream",
     "text": [
      "Episode 479 done.\n"
     ]
    },
    {
     "name": "stderr",
     "output_type": "stream",
     "text": [
      "100%|██████████| 5000/5000 [00:11<00:00, 421.03it/s]\n",
      "100%|██████████| 10/10 [00:00<00:00, 1164.08it/s]\n"
     ]
    },
    {
     "name": "stdout",
     "output_type": "stream",
     "text": [
      "Episode 511 done.\n"
     ]
    },
    {
     "name": "stderr",
     "output_type": "stream",
     "text": [
      "100%|██████████| 5000/5000 [00:11<00:00, 421.27it/s]\n",
      "100%|██████████| 10/10 [00:00<00:00, 1121.08it/s]\n"
     ]
    },
    {
     "name": "stdout",
     "output_type": "stream",
     "text": [
      "Episode 543 done.\n"
     ]
    },
    {
     "name": "stderr",
     "output_type": "stream",
     "text": [
      "100%|██████████| 5000/5000 [00:11<00:00, 419.04it/s]\n",
      "100%|██████████| 10/10 [00:00<00:00, 1159.80it/s]\n"
     ]
    },
    {
     "name": "stdout",
     "output_type": "stream",
     "text": [
      "Episode 575 done.\n"
     ]
    },
    {
     "name": "stderr",
     "output_type": "stream",
     "text": [
      "100%|██████████| 5000/5000 [00:11<00:00, 424.70it/s]\n",
      "100%|██████████| 10/10 [00:00<00:00, 1103.27it/s]\n"
     ]
    },
    {
     "name": "stdout",
     "output_type": "stream",
     "text": [
      "Episode 607 done.\n"
     ]
    },
    {
     "name": "stderr",
     "output_type": "stream",
     "text": [
      "100%|██████████| 5000/5000 [00:11<00:00, 428.72it/s]\n",
      "100%|██████████| 10/10 [00:00<00:00, 1291.99it/s]\n"
     ]
    },
    {
     "name": "stdout",
     "output_type": "stream",
     "text": [
      "Episode 639 done.\n"
     ]
    },
    {
     "name": "stderr",
     "output_type": "stream",
     "text": [
      "100%|██████████| 5000/5000 [00:11<00:00, 426.98it/s]\n",
      "100%|██████████| 10/10 [00:00<00:00, 1095.55it/s]\n"
     ]
    },
    {
     "name": "stdout",
     "output_type": "stream",
     "text": [
      "Episode 671 done.\n"
     ]
    },
    {
     "name": "stderr",
     "output_type": "stream",
     "text": [
      "100%|██████████| 5000/5000 [00:11<00:00, 420.93it/s]\n",
      "100%|██████████| 10/10 [00:00<00:00, 1097.67it/s]\n"
     ]
    },
    {
     "name": "stdout",
     "output_type": "stream",
     "text": [
      "Episode 703 done.\n"
     ]
    },
    {
     "name": "stderr",
     "output_type": "stream",
     "text": [
      "100%|██████████| 5000/5000 [00:11<00:00, 422.35it/s]\n",
      "100%|██████████| 10/10 [00:00<00:00, 1112.22it/s]\n"
     ]
    },
    {
     "name": "stdout",
     "output_type": "stream",
     "text": [
      "Episode 735 done.\n"
     ]
    },
    {
     "name": "stderr",
     "output_type": "stream",
     "text": [
      "100%|██████████| 5000/5000 [00:11<00:00, 421.64it/s]\n",
      "100%|██████████| 10/10 [00:00<00:00, 1239.05it/s]\n"
     ]
    },
    {
     "name": "stdout",
     "output_type": "stream",
     "text": [
      "Episode 767 done.\n"
     ]
    },
    {
     "name": "stderr",
     "output_type": "stream",
     "text": [
      "100%|██████████| 5000/5000 [00:11<00:00, 420.27it/s]\n",
      "100%|██████████| 10/10 [00:00<00:00, 1098.07it/s]\n"
     ]
    },
    {
     "name": "stdout",
     "output_type": "stream",
     "text": [
      "Episode 799 done.\n"
     ]
    },
    {
     "name": "stderr",
     "output_type": "stream",
     "text": [
      "100%|██████████| 5000/5000 [00:11<00:00, 419.67it/s]\n",
      "100%|██████████| 10/10 [00:00<00:00, 1125.63it/s]\n"
     ]
    },
    {
     "name": "stdout",
     "output_type": "stream",
     "text": [
      "Episode 831 done.\n"
     ]
    },
    {
     "name": "stderr",
     "output_type": "stream",
     "text": [
      "100%|██████████| 5000/5000 [00:11<00:00, 424.28it/s]\n",
      "100%|██████████| 10/10 [00:00<00:00, 1378.07it/s]\n"
     ]
    },
    {
     "name": "stdout",
     "output_type": "stream",
     "text": [
      "Episode 863 done.\n"
     ]
    },
    {
     "name": "stderr",
     "output_type": "stream",
     "text": [
      "100%|██████████| 5000/5000 [00:11<00:00, 429.11it/s]\n",
      "100%|██████████| 10/10 [00:00<00:00, 1094.69it/s]\n"
     ]
    },
    {
     "name": "stdout",
     "output_type": "stream",
     "text": [
      "Episode 895 done.\n"
     ]
    },
    {
     "name": "stderr",
     "output_type": "stream",
     "text": [
      "100%|██████████| 5000/5000 [00:11<00:00, 420.63it/s]\n",
      "100%|██████████| 10/10 [00:00<00:00, 1151.74it/s]\n"
     ]
    },
    {
     "name": "stdout",
     "output_type": "stream",
     "text": [
      "Episode 927 done.\n"
     ]
    },
    {
     "name": "stderr",
     "output_type": "stream",
     "text": [
      "100%|██████████| 5000/5000 [00:11<00:00, 420.94it/s]\n",
      "100%|██████████| 10/10 [00:00<00:00, 1102.11it/s]\n"
     ]
    },
    {
     "name": "stdout",
     "output_type": "stream",
     "text": [
      "Episode 959 done.\n"
     ]
    },
    {
     "name": "stderr",
     "output_type": "stream",
     "text": [
      "100%|██████████| 5000/5000 [00:11<00:00, 425.00it/s]\n",
      "100%|██████████| 10/10 [00:00<00:00, 1257.55it/s]"
     ]
    },
    {
     "name": "stdout",
     "output_type": "stream",
     "text": [
      "Episode 991 done.\n",
      "Complete\n"
     ]
    },
    {
     "name": "stderr",
     "output_type": "stream",
     "text": [
      "\n"
     ]
    }
   ],
   "source": [
    "td_error_list = []\n",
    "reward_list = []\n",
    "pred_loss_list = []\n",
    "# reg_loss_list = []\n",
    "\n",
    "for i_episode in range(num_episodes):\n",
    "    # Initialize the environment and get it's state\n",
    "    state, info = env.reset()\n",
    "    state = torch.tensor(state, dtype=torch.float32, device=device).unsqueeze(\n",
    "        0\n",
    "    )\n",
    "    skill = torch.tensor(\n",
    "        [random.choice([*range(num_skills)])], device=device\n",
    "    ).unsqueeze(\n",
    "        0\n",
    "    )  # [1, 1]\n",
    "\n",
    "    secondary_memory = []\n",
    "    action = None\n",
    "    while action is None:\n",
    "        action = select_action(state, skill.item(), i_episode)\n",
    "    while action is not None:\n",
    "        observation, _, terminated, truncated, _ = env.step(\n",
    "            action.item()\n",
    "        )  # ignore reward\n",
    "        done = terminated or truncated\n",
    "        next_state = torch.tensor(\n",
    "            observation, dtype=torch.float32, device=device\n",
    "        ).unsqueeze(0)\n",
    "\n",
    "        if terminated:\n",
    "            secondary_memory.append((state, action, None))\n",
    "        else:\n",
    "            secondary_memory.append((state, action, next_state))\n",
    "\n",
    "        state = next_state\n",
    "        action = select_action(state, skill.item(), i_episode)\n",
    "\n",
    "        if done:\n",
    "            break\n",
    "\n",
    "    initial_state = secondary_memory[0][0]\n",
    "    init_terminal = torch.cat((initial_state, state), dim=1)\n",
    "    predictor_memory.add((init_terminal.squeeze(0), skill.squeeze()))\n",
    "\n",
    "    if i_episode % 32 == 31:\n",
    "        pred_loss = update_pred()\n",
    "        pred_loss_list.append(pred_loss)\n",
    "        with torch.no_grad():\n",
    "            for transition in q_memory.memory:\n",
    "                # TODO: change this\n",
    "                transition._replace(\n",
    "                    reward = - torch.nn.functional.cross_entropy(predictor_net(init_terminal), skill.squeeze(0).to(device)).unsqueeze(0)\n",
    "                )\n",
    "\n",
    "    with torch.no_grad():\n",
    "        reward = - torch.nn.functional.cross_entropy(predictor_net(init_terminal), skill.squeeze(0).to(device)).unsqueeze(0) # - prev_regularizer_net(state_feature)[:, skill.item()]\n",
    "        # print(reward)\n",
    "\n",
    "    for s, a, ns in secondary_memory:\n",
    "        q_memory.push(s, a, ns, skill, reward, init_terminal)\n",
    "\n",
    "    # train 10 times\n",
    "    # TODO: prioritized queue\n",
    "    # td_error = None\n",
    "    if i_episode % 32 == 31:\n",
    "        for j in tqdm(range(10)):\n",
    "            td_error = compute_td_error()\n",
    "        print(f\"Episode {i_episode} done.\")\n",
    "\n",
    "        if td_error:\n",
    "            target_net.load_state_dict(policy_net.state_dict())\n",
    "            td_error_list.append(td_error)\n",
    "    # else:\n",
    "    #     td_error_list.append(torch.tensor(0))\n",
    "\n",
    "    if i_episode > 0 and not i_episode % 100:\n",
    "        torch.save(\n",
    "            target_net.state_dict(), \"target_net_{}.dict\".format(i_episode)\n",
    "        )\n",
    "\n",
    "print(\"Complete\")"
   ]
  },
  {
   "cell_type": "code",
   "execution_count": 32,
   "metadata": {},
   "outputs": [
    {
     "name": "stderr",
     "output_type": "stream",
     "text": [
      "/home/zhaoyutian/Documents/nlp/lib/python3.10/site-packages/gymnasium/core.py:311: UserWarning: \u001b[33mWARN: env.size to get variables from other wrappers is deprecated and will be removed in v1.0, to get this variable you can do `env.unwrapped.size` for environment variables or `env.get_wrapper_attr('size')` that will search the reminding wrappers.\u001b[0m\n",
      "  logger.warn(\n",
      "/home/zhaoyutian/Documents/nlp/lib/python3.10/site-packages/gymnasium/wrappers/record_video.py:94: UserWarning: \u001b[33mWARN: Overwriting existing videos at /home/zhaoyutian/Documents/rl_experiments/eval folder (try specifying a different `video_folder` for the `RecordVideo` wrapper if this is not desired)\u001b[0m\n",
      "  logger.warn(\n"
     ]
    },
    {
     "name": "stdout",
     "output_type": "stream",
     "text": [
      "0\n",
      "1\n",
      "2\n",
      "3\n",
      "Moviepy - Building video /home/zhaoyutian/Documents/rl_experiments/eval/eval-episode-0.mp4.\n",
      "Moviepy - Writing video /home/zhaoyutian/Documents/rl_experiments/eval/eval-episode-0.mp4\n",
      "\n"
     ]
    },
    {
     "name": "stderr",
     "output_type": "stream",
     "text": [
      "t:   0%|          | 0/6 [00:00<?, ?it/s, now=None]"
     ]
    },
    {
     "name": "stderr",
     "output_type": "stream",
     "text": [
      "/home/zhaoyutian/Documents/nlp/lib/python3.10/site-packages/gymnasium/core.py:311: UserWarning: \u001b[33mWARN: env.size to get variables from other wrappers is deprecated and will be removed in v1.0, to get this variable you can do `env.unwrapped.size` for environment variables or `env.get_wrapper_attr('size')` that will search the reminding wrappers.\u001b[0m\n",
      "  logger.warn(\n"
     ]
    },
    {
     "name": "stdout",
     "output_type": "stream",
     "text": [
      "Moviepy - Done !\n",
      "Moviepy - video ready /home/zhaoyutian/Documents/rl_experiments/eval/eval-episode-0.mp4\n",
      "4\n",
      "5\n",
      "6\n",
      "7\n",
      "[[0. 0. 0. 0. 7. 4. 0. 0. 0. 0.]\n",
      " [0. 0. 0. 0. 0. 0. 0. 1. 0. 0.]\n",
      " [0. 0. 0. 0. 0. 0. 0. 0. 0. 0.]\n",
      " [0. 0. 0. 0. 0. 0. 0. 0. 0. 0.]\n",
      " [5. 0. 0. 0. 0. 0. 3. 0. 0. 8.]\n",
      " [0. 0. 0. 0. 0. 0. 0. 0. 0. 0.]\n",
      " [6. 0. 0. 0. 0. 0. 0. 0. 0. 0.]\n",
      " [0. 0. 0. 0. 0. 0. 0. 0. 0. 0.]\n",
      " [0. 0. 0. 0. 0. 0. 0. 0. 0. 0.]\n",
      " [0. 0. 0. 0. 2. 0. 0. 0. 0. 0.]]\n",
      "Moviepy - Building video /home/zhaoyutian/Documents/rl_experiments/eval/eval-episode-1.mp4.\n",
      "Moviepy - Writing video /home/zhaoyutian/Documents/rl_experiments/eval/eval-episode-1.mp4\n",
      "\n"
     ]
    },
    {
     "name": "stderr",
     "output_type": "stream",
     "text": [
      "                                                    "
     ]
    },
    {
     "name": "stdout",
     "output_type": "stream",
     "text": [
      "Moviepy - Done !\n",
      "Moviepy - video ready /home/zhaoyutian/Documents/rl_experiments/eval/eval-episode-1.mp4\n"
     ]
    },
    {
     "name": "stderr",
     "output_type": "stream",
     "text": [
      "\r"
     ]
    }
   ],
   "source": [
    "env = gym.make(\"gym_examples/GridWorld-v0\", size=10, render_mode=\"rgb_array\")\n",
    "# env = gym.make('gym_examples:gym_examples/GridWorld-v0', size=10, render_mode=\"rgb_array\")\n",
    "env = gym_examples.OneHot(env)\n",
    "env = gym.wrappers.RecordVideo(\n",
    "    env,\n",
    "    video_folder=\"eval\",\n",
    "    name_prefix=\"eval\",\n",
    "    episode_trigger=lambda x: True,\n",
    ")\n",
    "num_eval_episodes = 8\n",
    "map = None\n",
    "\n",
    "for episode_num in range(num_eval_episodes):\n",
    "    obs, _ = env.reset()\n",
    "\n",
    "    for t in range(100):\n",
    "        obs = torch.tensor(\n",
    "            obs, dtype=torch.float32, device=device\n",
    "        ).unsqueeze(0)\n",
    "        action = (\n",
    "            target_net(obs).reshape(-1, n_actions, num_skills)[:,:, episode_num]\n",
    "            .max(1)\n",
    "            .indices.view(1, 1)\n",
    "        )\n",
    "        # action = select_action(obs, 4, 100000)\n",
    "        \n",
    "        if action is not None:\n",
    "            obs, reward, terminated, truncated, _ = env.step(action.item())\n",
    "            \n",
    "        done = terminated | truncated\n",
    "\n",
    "        if done or action is None:\n",
    "            break\n",
    "    if map is not None:\n",
    "        map += (1+episode_num)*obs\n",
    "    else:\n",
    "        map = (1+episode_num)*obs\n",
    "print(map.reshape((10, 10)))\n",
    "\n",
    "env.close()\n",
    "\n",
    "# [0. 0. 0. 0. 7. 4. 0. 0. 0. 0.]\n",
    "# [0. 0. 0. 0. 0. 0. 0. 1. 0. 0.]\n",
    "# [0. 0. 0. 0. 0. 0. 0. 0. 0. 0.]\n",
    "# [0. 0. 0. 0. 0. 0. 0. 0. 0. 0.]\n",
    "# [5. 0. 0. 0. 0. 0. 3. 0. 0. 8.]\n",
    "# [0. 0. 0. 0. 0. 0. 0. 0. 0. 0.]\n",
    "# [6. 0. 0. 0. 0. 0. 0. 0. 0. 0.]\n",
    "# [0. 0. 0. 0. 0. 0. 0. 0. 0. 0.]\n",
    "# [0. 0. 0. 0. 0. 0. 0. 0. 0. 0.]\n",
    "# [0. 0. 0. 0. 2. 0. 0. 0. 0. 0.]"
   ]
  },
  {
   "cell_type": "code",
   "execution_count": 30,
   "metadata": {},
   "outputs": [
    {
     "data": {
      "text/plain": [
       "[<matplotlib.lines.Line2D at 0x7fd8ed77ba00>]"
      ]
     },
     "execution_count": 30,
     "metadata": {},
     "output_type": "execute_result"
    },
    {
     "data": {
      "image/png": "[encoded data removed]",
      "text/plain": [
       "<Figure size 640x480 with 1 Axes>"
      ]
     },
     "metadata": {},
     "output_type": "display_data"
    }
   ],
   "source": [
    "plt.plot([i.item() if type(i) == torch.Tensor else 0 for i in pred_loss_list])"
   ]
  },
  {
   "cell_type": "code",
   "execution_count": 31,
   "metadata": {},
   "outputs": [
    {
     "data": {
      "text/plain": [
       "[<matplotlib.lines.Line2D at 0x7fd8ed7f3100>]"
      ]
     },
     "execution_count": 31,
     "metadata": {},
     "output_type": "execute_result"
    },
    {
     "data": {
      "image/png": "[encoded data removed]",
      "text/plain": [
       "<Figure size 640x480 with 1 Axes>"
      ]
     },
     "metadata": {},
     "output_type": "display_data"
    }
   ],
   "source": [
    "plt.plot([i.item() if type(i) == torch.Tensor else 0 for i in td_error_list])"
   ]
  },
  {
   "cell_type": "code",
   "execution_count": 49,
   "metadata": {},
   "outputs": [
    {
     "name": "stderr",
     "output_type": "stream",
     "text": [
      "/home/zhaoyutian/Documents/nlp/lib/python3.10/site-packages/gymnasium/core.py:311: UserWarning: \u001b[33mWARN: env.size to get variables from other wrappers is deprecated and will be removed in v1.0, to get this variable you can do `env.unwrapped.size` for environment variables or `env.get_wrapper_attr('size')` that will search the reminding wrappers.\u001b[0m\n",
      "  logger.warn(\n"
     ]
    }
   ],
   "source": [
    "obs, _ = env.reset()\n",
    "\n",
    "input = torch.cat((torch.tensor(obs, dtype=torch.float, device=device).unsqueeze(0).repeat(100, 1), torch.eye(100).to(device)),dim=1)\n",
    "state_skills = predictor_net(input)\n",
    "state_skill_map = torch.argmax(state_skills, 1).reshape((10, 10)) # untouched?\n",
    "state_skill_value = torch.max(state_skills, 1).values.reshape((10, 10))\n",
    "skill_state = torch.argmax(state_skills, 0)\n",
    "skill_state_value = torch.max(state_skills, 0).values"
   ]
  },
  {
   "cell_type": "code",
   "execution_count": 42,
   "metadata": {},
   "outputs": [
    {
     "data": {
      "text/plain": [
       "tensor([[0, 0, 0, 0, 6, 3, 0, 0, 0, 0],\n",
       "        [0, 0, 0, 0, 6, 0, 0, 0, 0, 0],\n",
       "        [0, 0, 0, 0, 6, 0, 0, 0, 0, 0],\n",
       "        [0, 0, 0, 0, 0, 0, 0, 0, 0, 0],\n",
       "        [4, 4, 4, 4, 5, 7, 2, 2, 7, 7],\n",
       "        [0, 0, 0, 5, 0, 0, 0, 0, 0, 0],\n",
       "        [5, 0, 5, 5, 1, 0, 0, 0, 0, 0],\n",
       "        [0, 0, 0, 0, 1, 0, 0, 0, 0, 0],\n",
       "        [0, 0, 0, 0, 0, 0, 0, 0, 0, 0],\n",
       "        [0, 0, 0, 0, 1, 0, 0, 0, 0, 0]], device='cuda:0')"
      ]
     },
     "execution_count": 42,
     "metadata": {},
     "output_type": "execute_result"
    }
   ],
   "source": [
    "state_skill_map"
   ]
  },
  {
   "cell_type": "code",
   "execution_count": 47,
   "metadata": {},
   "outputs": [
    {
     "data": {
      "text/plain": [
       "tensor([[0., 0., 0., 0., 7., 4., 0., 0., 0., 1.],\n",
       "        [0., 0., 0., 0., 0., 0., 0., 0., 0., 0.],\n",
       "        [0., 0., 0., 0., 0., 0., 0., 0., 0., 0.],\n",
       "        [0., 0., 0., 0., 0., 0., 0., 0., 0., 0.],\n",
       "        [5., 0., 0., 0., 0., 0., 0., 3., 0., 8.],\n",
       "        [0., 0., 0., 0., 0., 0., 0., 0., 0., 0.],\n",
       "        [6., 0., 0., 0., 0., 0., 0., 0., 0., 0.],\n",
       "        [0., 0., 0., 0., 0., 0., 0., 0., 0., 0.],\n",
       "        [0., 0., 0., 0., 0., 0., 0., 0., 0., 0.],\n",
       "        [0., 0., 0., 0., 2., 0., 0., 0., 0., 0.]])"
      ]
     },
     "execution_count": 47,
     "metadata": {},
     "output_type": "execute_result"
    }
   ],
   "source": [
    "skill_state_map = torch.zeros((10, 10))\n",
    "for idx, i in enumerate(skill_state):\n",
    "    r = int(i/10)\n",
    "    c = i%10\n",
    "    skill_state_map[r][c] = 1+idx\n",
    "skill_state_map"
   ]
  },
  {
   "cell_type": "code",
   "execution_count": null,
   "metadata": {},
   "outputs": [],
   "source": []
  }
 ],
 "metadata": {
  "kernelspec": {
   "display_name": "nlp",
   "language": "python",
   "name": "python3"
  },
  "language_info": {
   "codemirror_mode": {
    "name": "ipython",
    "version": 3
   },
   "file_extension": ".py",
   "mimetype": "text/x-python",
   "name": "python",
   "nbconvert_exporter": "python",
   "pygments_lexer": "ipython3",
   "version": "3.10.12"
  }
 },
 "nbformat": 4,
 "nbformat_minor": 2
}
