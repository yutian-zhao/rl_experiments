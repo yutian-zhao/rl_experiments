{
 "cells": [
  {
   "cell_type": "code",
   "execution_count": 1,
   "metadata": {},
   "outputs": [],
   "source": [
    "import numpy as np\n",
    "import matplotlib.pyplot as plt\n",
    "import random"
   ]
  },
  {
   "cell_type": "markdown",
   "metadata": {},
   "source": [
    "# 1. Env"
   ]
  },
  {
   "cell_type": "code",
   "execution_count": 2,
   "metadata": {},
   "outputs": [
    {
     "name": "stdout",
     "output_type": "stream",
     "text": [
      "10 11\n"
     ]
    }
   ],
   "source": [
    "maze0 = [\n",
    "    \"###########\",\n",
    "    \"#    #   9#\",\n",
    "    \"#    #    #\",\n",
    "    \"#    #    #\",\n",
    "    \"#S   #    #\",\n",
    "    \"#    #    #\",\n",
    "    \"#    #    #\",\n",
    "    \"#         #\",\n",
    "    \"#         #\",\n",
    "    \"###########\",\n",
    "]\n",
    "print(len(maze0), len(maze0[0]))"
   ]
  },
  {
   "cell_type": "code",
   "execution_count": 3,
   "metadata": {},
   "outputs": [],
   "source": [
    "Actions = [(0, 1), (-1, 0), (0, -1), (1, 0)]\n",
    "\n",
    "\n",
    "class Env:\n",
    "    \"\"\"2d gridworld environment\"\"\"\n",
    "\n",
    "    def __init__(self, maze, step_reward=0):\n",
    "        self.maze = maze\n",
    "        self.step_reward = step_reward\n",
    "        self.state_visit = np.zeros((self.height(), self.width()))\n",
    "        self.state_action_visit = np.zeros(\n",
    "            (self.height(), self.width(), len(Actions)))\n",
    "        self.reset()\n",
    "\n",
    "    def reset(self):\n",
    "        \"\"\"initialize to begin with a new episode\"\"\"\n",
    "        self.state = self.find_start_state()\n",
    "        self.state_visit[self.state[0], self.state[1]] += 1\n",
    "        return self.state, self.state_visit  # observation, info\n",
    "\n",
    "    def step(self, action):\n",
    "        \"\"\"take an action and return tuple of state, reard, terminal, ...\"\"\"\n",
    "        assert 0 <= action < 4\n",
    "        neighbor = self.state + Actions[action]\n",
    "        self.state_action_visit[self.state[0], self.state[1], action] += 1\n",
    "        if not self.passable(neighbor):\n",
    "            neighbor = self.state\n",
    "        self.state = neighbor\n",
    "        self.state_visit[self.state[0], self.state[1]] += 1\n",
    "        if self.is_goal(self.state):\n",
    "            return self.state, self.reward(neighbor), True, False, self.state_visit\n",
    "        # obs., r, terminal,, info\n",
    "        return self.state, self.step_reward, False, False, self.state_visit\n",
    "\n",
    "    def height(self):\n",
    "        return len(self.maze)\n",
    "\n",
    "    def width(self):\n",
    "        return len(self.maze[0])\n",
    "\n",
    "    def find_start_state(self):\n",
    "        \"\"\"find a start position denoted by letter 'S' in maze\"\"\"\n",
    "        for y in range(self.height()):\n",
    "            if 'S' in self.maze[y]:\n",
    "                return np.array([y, self.maze[y].index('S')])\n",
    "        raise RuntimeError('find_start_state failed')\n",
    "\n",
    "    def passable(self, yx):\n",
    "        \"\"\"return maze at yx is passable\"\"\"\n",
    "        return self.maze[yx[0]][yx[1]] != '#'\n",
    "\n",
    "    def is_goal(self, yx):\n",
    "        \"\"\"return maze at yx is a goal\"\"\"\n",
    "        return self.maze[yx[0]][yx[1]].isdigit()\n",
    "\n",
    "    def reward(self, yx):\n",
    "        \"\"\"return a reward on arriving state yx\"\"\"\n",
    "        return int(self.maze[yx[0]][yx[1]]) if self.is_goal(yx) else 0"
   ]
  },
  {
   "cell_type": "code",
   "execution_count": 4,
   "metadata": {},
   "outputs": [
    {
     "data": {
      "text/plain": [
       "(11, 10)"
      ]
     },
     "execution_count": 4,
     "metadata": {},
     "output_type": "execute_result"
    }
   ],
   "source": [
    "env = Env(maze0)\n",
    "env.width(), env.height()"
   ]
  },
  {
   "cell_type": "markdown",
   "metadata": {},
   "source": [
    "# 2. Random Walk"
   ]
  },
  {
   "cell_type": "code",
   "execution_count": 5,
   "metadata": {},
   "outputs": [],
   "source": [
    "def random_walk(step_limit):\n",
    "    env = Env(maze0)\n",
    "    obs, info = env.reset()\n",
    "    for step in range(step_limit):\n",
    "        action = random.randrange(len(Actions)) # 等確率\n",
    "        obs, reward, terminal, interrupt, info = env.step(action)\n",
    "    if terminal or interrupt:\n",
    "        obs, info = env.reset()\n",
    "    return env.state_visit"
   ]
  },
  {
   "cell_type": "code",
   "execution_count": 6,
   "metadata": {},
   "outputs": [
    {
     "data": {
      "text/plain": [
       "array([[ 0.,  0.,  0.,  0.,  0.,  0.,  0.,  0.,  0.,  0.,  0.],\n",
       "       [ 0., 19., 23., 28., 21.,  0.,  0.,  0.,  0.,  0.,  0.],\n",
       "       [ 0., 20., 23., 28., 31.,  0.,  0.,  0.,  0.,  0.,  0.],\n",
       "       [ 0., 35., 33., 42., 48.,  0.,  0.,  0.,  0.,  0.,  0.],\n",
       "       [ 0., 43., 27., 32., 34.,  0.,  0.,  0.,  0.,  0.,  0.],\n",
       "       [ 0., 41., 27., 21., 24.,  0.,  1.,  3.,  2.,  0.,  0.],\n",
       "       [ 0., 27., 25., 23., 22.,  0., 11., 13.,  9.,  2.,  0.],\n",
       "       [ 0., 22., 20., 21., 13.,  7., 14., 17., 14.,  2.,  0.],\n",
       "       [ 0., 27., 19., 18., 11., 12., 17., 17., 12.,  1.,  0.],\n",
       "       [ 0.,  0.,  0.,  0.,  0.,  0.,  0.,  0.,  0.,  0.,  0.]])"
      ]
     },
     "execution_count": 6,
     "metadata": {},
     "output_type": "execute_result"
    }
   ],
   "source": [
    "visits = random_walk(1000)\n",
    "visits"
   ]
  },
  {
   "cell_type": "code",
   "execution_count": 7,
   "metadata": {},
   "outputs": [
    {
     "data": {
      "text/plain": [
       "<matplotlib.image.AxesImage at 0x7f4a208dbf10>"
      ]
     },
     "execution_count": 7,
     "metadata": {},
     "output_type": "execute_result"
    },
    {
     "data": {
      "image/png": "[encoded data removed]",
      "text/plain": [
       "<Figure size 640x480 with 1 Axes>"
      ]
     },
     "metadata": {},
     "output_type": "display_data"
    }
   ],
   "source": [
    "plt.imshow(visits, cmap='Oranges')"
   ]
  },
  {
   "cell_type": "markdown",
   "metadata": {},
   "source": [
    "# 3. Q-learning with ϵ-greedy"
   ]
  },
  {
   "cell_type": "code",
   "execution_count": 16,
   "metadata": {},
   "outputs": [
    {
     "name": "stdout",
     "output_type": "stream",
     "text": [
      "Terminated in 267 episodes.\n"
     ]
    },
    {
     "data": {
      "text/plain": [
       "<matplotlib.colorbar.Colorbar at 0x7f4a1e0bebf0>"
      ]
     },
     "execution_count": 16,
     "metadata": {},
     "output_type": "execute_result"
    },
    {
     "data": {
      "image/png": "[encoded data removed]",
      "text/plain": [
       "<Figure size 640x480 with 2 Axes>"
      ]
     },
     "metadata": {},
     "output_type": "display_data"
    }
   ],
   "source": [
    "def sample_action(action_values, eps):\n",
    "    p = random.random()\n",
    "    if p < eps:\n",
    "        return random.randrange(len(action_values))\n",
    "    return action_values.argmax()\n",
    "\n",
    "def make_q_table(env):\n",
    "    return np.zeros((env.height(), env.width(), len(Actions)))\n",
    "\n",
    "def Q_agent(step_limit, initial_eps=1.0, alpha=0.1, maze=maze0, r=1):\n",
    "    env = Env(maze0)\n",
    "    obs, info = env.reset()\n",
    "    q_table = make_q_table(env)\n",
    "    num_episodes = 0\n",
    "    steps = 0\n",
    "    for s in range(step_limit):\n",
    "        eps = initial_eps * (step_limit - s) / step_limit\n",
    "        # update q_table --- ここを自分で書いてみよう ---\n",
    "        action = sample_action(q_table[obs[0]][obs[1]], eps)\n",
    "        next_obs, reward, terminated, truncated, info = env.step(action)\n",
    "        steps += 1\n",
    "        # V(s_T)=0\n",
    "        v_next= 0 if terminated or truncated else max(q_table[next_obs[0]][next_obs[1]]) \n",
    "        v = q_table[obs[0]][obs[1]][action]\n",
    "        q_table[obs[0]][obs[1]][action] = v + alpha*(reward+r*v_next-v)\n",
    "        obs = next_obs\n",
    "        if terminated or truncated:\n",
    "            obs, info = env.reset()\n",
    "            num_episodes += 1\n",
    "            # print(steps)\n",
    "            steps = 0\n",
    "    return env.state_visit, q_table, num_episodes\n",
    "\n",
    "# When r is set to 1 or close to 1, like 0.99, there are no difference between the value of the states close the goal and the value of the states far from the goal, thus the agent don't know which direction to go at the start.\n",
    "visits, q_table, num_episodes = Q_agent(10000, alpha=0.1, r=0.99)\n",
    "print(f\"Terminated in {num_episodes} episodes.\")\n",
    "plt.imshow(visits, cmap='Oranges') # np.max(np.array(q_table), axis=-1)\n",
    "plt.colorbar()"
   ]
  },
  {
   "cell_type": "code",
   "execution_count": 17,
   "metadata": {},
   "outputs": [
    {
     "data": {
      "text/plain": [
       "<matplotlib.colorbar.Colorbar at 0x7f4a1df5f100>"
      ]
     },
     "execution_count": 17,
     "metadata": {},
     "output_type": "execute_result"
    },
    {
     "data": {
      "image/png": "[encoded data removed]",
      "text/plain": [
       "<Figure size 640x480 with 2 Axes>"
      ]
     },
     "metadata": {},
     "output_type": "display_data"
    }
   ],
   "source": [
    "plt.imshow(q_table.max(axis=2), cmap='Purples')\n",
    "plt.colorbar()"
   ]
  },
  {
   "cell_type": "code",
   "execution_count": 19,
   "metadata": {},
   "outputs": [
    {
     "data": {
      "text/plain": [
       "<Axes: >"
      ]
     },
     "execution_count": 19,
     "metadata": {},
     "output_type": "execute_result"
    },
    {
     "data": {
      "image/png": "[encoded data removed]",
      "text/plain": [
       "<Figure size 640x480 with 1 Axes>"
      ]
     },
     "metadata": {},
     "output_type": "display_data"
    }
   ],
   "source": [
    "def policy_at_location(yx, q_table):\n",
    "    \"\"\"make a vector of expected direction in softmax policy stored in q_table\"\"\"\n",
    "    inv_temp = 1\n",
    "    qs = q_table[int(yx[0]), int(yx[1])]\n",
    "    d4 = np.exp(inv_temp * (qs - qs.max())) # why do this?\n",
    "    d4 /= max(0.1, d4.sum())\n",
    "    return d4 @ Actions # dot product of probability and unit vectors\n",
    "def visualize_policy(q_table):\n",
    "    X, Y = np.meshgrid(np.linspace(0, 10, 11), np.linspace(0, 9, 10))\n",
    "    pos = np.dstack((Y, X))\n",
    "    uv = np.zeros_like(pos)\n",
    "    for yx in sum(pos.tolist(), []):\n",
    "        uv[int(yx[0]), int(yx[1])] = policy_at_location(yx, q_table)\n",
    "        U = uv[:,:,0] # 10,10,1\n",
    "        V = uv[:,:,1] # 10,10,1\n",
    "    fixg, ax = plt.subplots()\n",
    "    ax.invert_yaxis()\n",
    "    ax.quiver(X, Y, V, U, angles='xy', scale_units='xy', scale=1)\n",
    "    return ax\n",
    "visualize_policy(q_table)"
   ]
  },
  {
   "cell_type": "code",
   "execution_count": null,
   "metadata": {},
   "outputs": [],
   "source": []
  }
 ],
 "metadata": {
  "kernelspec": {
   "display_name": "nlp",
   "language": "python",
   "name": "python3"
  },
  "language_info": {
   "codemirror_mode": {
    "name": "ipython",
    "version": 3
   },
   "file_extension": ".py",
   "mimetype": "text/x-python",
   "name": "python",
   "nbconvert_exporter": "python",
   "pygments_lexer": "ipython3",
   "version": "3.10.12"
  }
 },
 "nbformat": 4,
 "nbformat_minor": 2
}
